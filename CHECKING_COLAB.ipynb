{
  "nbformat": 4,
  "nbformat_minor": 0,
  "metadata": {
    "colab": {
      "name": "CHECKING COLAB.ipynb",
      "version": "0.3.2",
      "provenance": [],
      "include_colab_link": true
    },
    "kernelspec": {
      "name": "python3",
      "display_name": "Python 3"
    },
    "accelerator": "GPU"
  },
  "cells": [
    {
      "cell_type": "markdown",
      "metadata": {
        "id": "view-in-github",
        "colab_type": "text"
      },
      "source": [
        "<a href=\"https://colab.research.google.com/github/hamzarashid592/Urdu_YOLO/blob/master/CHECKING_COLAB.ipynb\" target=\"_parent\"><img src=\"https://colab.research.google.com/assets/colab-badge.svg\" alt=\"Open In Colab\"/></a>"
      ]
    },
    {
      "metadata": {
        "id": "K0GZysgsxX-Q",
        "colab_type": "code",
        "colab": {}
      },
      "cell_type": "code",
      "source": [
        ""
      ],
      "execution_count": 0,
      "outputs": []
    },
    {
      "metadata": {
        "id": "1gbBZyTlxkpt",
        "colab_type": "code",
        "colab": {}
      },
      "cell_type": "code",
      "source": [
        "!cd darkflow/"
      ],
      "execution_count": 0,
      "outputs": []
    },
    {
      "metadata": {
        "id": "iPGM5zmyxsgs",
        "colab_type": "code",
        "outputId": "d4081688-ea84-477b-eef7-207ed1f02301",
        "colab": {
          "base_uri": "https://localhost:8080/",
          "height": 34
        }
      },
      "cell_type": "code",
      "source": [
        "print(\"AAAAAAAAAAAAAAAAA\")"
      ],
      "execution_count": 0,
      "outputs": [
        {
          "output_type": "stream",
          "text": [
            "AAAAAAAAAAAAAAAAA\n"
          ],
          "name": "stdout"
        }
      ]
    },
    {
      "metadata": {
        "id": "NRllX4WGyBmC",
        "colab_type": "code",
        "outputId": "662bec0c-55d6-46d6-d19a-321dfd39a410",
        "colab": {
          "base_uri": "https://localhost:8080/",
          "height": 333
        }
      },
      "cell_type": "code",
      "source": [
        "import tensorflow as tf\n",
        "import cv2\n",
        "import matplotlib\n",
        "from darkflow.net.build import TFNet"
      ],
      "execution_count": 0,
      "outputs": [
        {
          "output_type": "error",
          "ename": "ModuleNotFoundError",
          "evalue": "ignored",
          "traceback": [
            "\u001b[0;31m---------------------------------------------------------------------------\u001b[0m",
            "\u001b[0;31mModuleNotFoundError\u001b[0m                       Traceback (most recent call last)",
            "\u001b[0;32m<ipython-input-4-3e79eb4a0e84>\u001b[0m in \u001b[0;36m<module>\u001b[0;34m()\u001b[0m\n\u001b[1;32m      2\u001b[0m \u001b[0;32mimport\u001b[0m \u001b[0mcv2\u001b[0m\u001b[0;34m\u001b[0m\u001b[0;34m\u001b[0m\u001b[0m\n\u001b[1;32m      3\u001b[0m \u001b[0;32mimport\u001b[0m \u001b[0mmatplotlib\u001b[0m\u001b[0;34m\u001b[0m\u001b[0;34m\u001b[0m\u001b[0m\n\u001b[0;32m----> 4\u001b[0;31m \u001b[0;32mfrom\u001b[0m \u001b[0mdarkflow\u001b[0m\u001b[0;34m.\u001b[0m\u001b[0mnet\u001b[0m\u001b[0;34m.\u001b[0m\u001b[0mbuild\u001b[0m \u001b[0;32mimport\u001b[0m \u001b[0mTFNet\u001b[0m\u001b[0;34m\u001b[0m\u001b[0;34m\u001b[0m\u001b[0m\n\u001b[0m",
            "\u001b[0;31mModuleNotFoundError\u001b[0m: No module named 'darkflow'",
            "",
            "\u001b[0;31m---------------------------------------------------------------------------\u001b[0;32m\nNOTE: If your import is failing due to a missing package, you can\nmanually install dependencies using either !pip or !apt.\n\nTo view examples of installing some common dependencies, click the\n\"Open Examples\" button below.\n\u001b[0;31m---------------------------------------------------------------------------\u001b[0m\n"
          ]
        }
      ]
    },
    {
      "metadata": {
        "id": "79tBEtVOyCEr",
        "colab_type": "text"
      },
      "cell_type": "markdown",
      "source": [
        ""
      ]
    },
    {
      "metadata": {
        "id": "RrRawjsO0AYu",
        "colab_type": "code",
        "outputId": "f2471496-8063-4af7-cf30-2f398b2afd7c",
        "colab": {
          "base_uri": "https://localhost:8080/",
          "height": 34
        }
      },
      "cell_type": "code",
      "source": [
        "ls"
      ],
      "execution_count": 0,
      "outputs": [
        {
          "output_type": "stream",
          "text": [
            "\u001b[0m\u001b[01;34mdarkflow\u001b[0m/  \u001b[01;34msample_data\u001b[0m/\n"
          ],
          "name": "stdout"
        }
      ]
    },
    {
      "metadata": {
        "id": "SZB_nQVnWUV2",
        "colab_type": "code",
        "outputId": "f578f6f1-8700-48d1-8a44-744552421321",
        "colab": {
          "base_uri": "https://localhost:8080/",
          "height": 34
        }
      },
      "cell_type": "code",
      "source": [
        "pwd"
      ],
      "execution_count": 0,
      "outputs": [
        {
          "output_type": "execute_result",
          "data": {
            "text/plain": [
              "'/content'"
            ]
          },
          "metadata": {
            "tags": []
          },
          "execution_count": 24
        }
      ]
    },
    {
      "metadata": {
        "id": "am4l4tSpZMMZ",
        "colab_type": "code",
        "outputId": "7428a956-d0aa-4df9-f9da-b3c27aa3dbc9",
        "colab": {
          "base_uri": "https://localhost:8080/",
          "height": 34
        }
      },
      "cell_type": "code",
      "source": [
        "cd darkflow"
      ],
      "execution_count": 0,
      "outputs": [
        {
          "output_type": "stream",
          "text": [
            "/content/darkflow\n"
          ],
          "name": "stdout"
        }
      ]
    },
    {
      "metadata": {
        "id": "ZYKIGOc3ZOZ_",
        "colab_type": "code",
        "outputId": "84d73812-001d-425d-917f-984930198fcf",
        "colab": {
          "base_uri": "https://localhost:8080/",
          "height": 85
        }
      },
      "cell_type": "code",
      "source": [
        "!pip install -e ."
      ],
      "execution_count": 0,
      "outputs": [
        {
          "output_type": "stream",
          "text": [
            "Obtaining file:///content/darkflow\n",
            "Installing collected packages: darkflow\n",
            "  Running setup.py develop for darkflow\n",
            "Successfully installed darkflow\n"
          ],
          "name": "stdout"
        }
      ]
    },
    {
      "metadata": {
        "id": "clFKXDiEZuOG",
        "colab_type": "code",
        "outputId": "063dac11-4112-47ef-b181-8cfc356a91f3",
        "colab": {
          "base_uri": "https://localhost:8080/",
          "height": 122
        }
      },
      "cell_type": "code",
      "source": [
        "from google.colab import drive\n",
        "drive.mount('/content/drive')"
      ],
      "execution_count": 0,
      "outputs": [
        {
          "output_type": "stream",
          "text": [
            "Go to this URL in a browser: https://accounts.google.com/o/oauth2/auth?client_id=947318989803-6bn6qk8qdgf4n4g3pfee6491hc0brc4i.apps.googleusercontent.com&redirect_uri=urn%3Aietf%3Awg%3Aoauth%3A2.0%3Aoob&scope=email%20https%3A%2F%2Fwww.googleapis.com%2Fauth%2Fdocs.test%20https%3A%2F%2Fwww.googleapis.com%2Fauth%2Fdrive%20https%3A%2F%2Fwww.googleapis.com%2Fauth%2Fdrive.photos.readonly%20https%3A%2F%2Fwww.googleapis.com%2Fauth%2Fpeopleapi.readonly&response_type=code\n",
            "\n",
            "Enter your authorization code:\n",
            "··········\n",
            "Mounted at /content/drive\n"
          ],
          "name": "stdout"
        }
      ]
    },
    {
      "metadata": {
        "id": "gCWLmx0wbj4c",
        "colab_type": "text"
      },
      "cell_type": "markdown",
      "source": [
        ""
      ]
    },
    {
      "metadata": {
        "id": "RYuGIR7sbkoq",
        "colab_type": "code",
        "colab": {}
      },
      "cell_type": "code",
      "source": [
        "ls"
      ],
      "execution_count": 0,
      "outputs": []
    },
    {
      "metadata": {
        "id": "0juSyLwnb9WE",
        "colab_type": "code",
        "outputId": "2e44e9fe-270d-4ca7-d0bd-ba21b80d8347",
        "colab": {
          "resources": {
            "http://localhost:8080/nbextensions/google.colab/files.js": {
              "data": "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",
              "ok": true,
              "headers": [
                [
                  "content-type",
                  "application/javascript"
                ]
              ],
              "status": 200,
              "status_text": ""
            }
          },
          "base_uri": "https://localhost:8080/",
          "height": 55
        }
      },
      "cell_type": "code",
      "source": [
        "from google.colab import files\n",
        "files.upload()"
      ],
      "execution_count": 0,
      "outputs": [
        {
          "output_type": "display_data",
          "data": {
            "text/html": [
              "\n",
              "     <input type=\"file\" id=\"files-67a3314a-f781-4f2e-87d1-58f879ca3bad\" name=\"files[]\" multiple disabled />\n",
              "     <output id=\"result-67a3314a-f781-4f2e-87d1-58f879ca3bad\">\n",
              "      Upload widget is only available when the cell has been executed in the\n",
              "      current browser session. Please rerun this cell to enable.\n",
              "      </output>\n",
              "      <script src=\"/nbextensions/google.colab/files.js\"></script> "
            ],
            "text/plain": [
              "<IPython.core.display.HTML object>"
            ]
          },
          "metadata": {
            "tags": []
          }
        },
        {
          "output_type": "execute_result",
          "data": {
            "text/plain": [
              "{}"
            ]
          },
          "metadata": {
            "tags": []
          },
          "execution_count": 2
        }
      ]
    },
    {
      "metadata": {
        "id": "dq7JFoUY5fMc",
        "colab_type": "code",
        "outputId": "22c7c05d-3b4a-481d-d733-385b99935603",
        "colab": {
          "base_uri": "https://localhost:8080/",
          "height": 34
        }
      },
      "cell_type": "code",
      "source": [
        "pwd"
      ],
      "execution_count": 25,
      "outputs": [
        {
          "output_type": "execute_result",
          "data": {
            "text/plain": [
              "'/content/images'"
            ]
          },
          "metadata": {
            "tags": []
          },
          "execution_count": 25
        }
      ]
    },
    {
      "metadata": {
        "id": "CoL4Q6Vh5oE4",
        "colab_type": "code",
        "outputId": "0cdd3aed-7b63-4dda-a25f-026e9226e290",
        "colab": {
          "base_uri": "https://localhost:8080/",
          "height": 34
        }
      },
      "cell_type": "code",
      "source": [
        "cd images"
      ],
      "execution_count": 33,
      "outputs": [
        {
          "output_type": "stream",
          "text": [
            "/content/images\n"
          ],
          "name": "stdout"
        }
      ]
    },
    {
      "metadata": {
        "id": "PcpijzdN9cbb",
        "colab_type": "code",
        "outputId": "5d6e3ee9-1309-42fc-ef65-6a15e9623341",
        "colab": {
          "base_uri": "https://localhost:8080/",
          "height": 34
        }
      },
      "cell_type": "code",
      "source": [
        "import requests\n",
        "\n",
        "url = 'https://pdf2jpg.net/files/9c580cf4ed85656a42ea50344f059eadb7aa9e8d/IS_Jild_35_Paksociety_com.zip'\n",
        "r = requests.get(url, allow_redirects=True)\n",
        "open('IS_Jild_35_Paksociety_com.zip', 'wb').write(r.content)"
      ],
      "execution_count": 27,
      "outputs": [
        {
          "output_type": "execute_result",
          "data": {
            "text/plain": [
              "181197636"
            ]
          },
          "metadata": {
            "tags": []
          },
          "execution_count": 27
        }
      ]
    },
    {
      "metadata": {
        "id": "OcD0HwPhALaM",
        "colab_type": "code",
        "outputId": "8fd4d4fd-8211-41ec-9285-11bf624883eb",
        "colab": {
          "base_uri": "https://localhost:8080/",
          "height": 4386
        }
      },
      "cell_type": "code",
      "source": [
        "!unzip -d /content/images/ IS_Jild_35_Paksociety_com.zip"
      ],
      "execution_count": 31,
      "outputs": [
        {
          "output_type": "stream",
          "text": [
            "Archive:  IS_Jild_35_Paksociety_com.zip\n",
            " extracting: /content/images/IS_Jild_35_Paksociety_com-page-014.jpg  \n",
            " extracting: /content/images/IS_Jild_35_Paksociety_com-page-035.jpg  \n",
            " extracting: /content/images/IS_Jild_35_Paksociety_com-page-148.jpg  \n",
            " extracting: /content/images/IS_Jild_35_Paksociety_com-page-243.jpg  \n",
            " extracting: /content/images/IS_Jild_35_Paksociety_com-page-210.jpg  \n",
            " extracting: /content/images/IS_Jild_35_Paksociety_com-page-199.jpg  \n",
            " extracting: /content/images/IS_Jild_35_Paksociety_com-page-152.jpg  \n",
            " extracting: /content/images/IS_Jild_35_Paksociety_com-page-207.jpg  \n",
            " extracting: /content/images/IS_Jild_35_Paksociety_com-page-100.jpg  \n",
            " extracting: /content/images/IS_Jild_35_Paksociety_com-page-204.jpg  \n",
            " extracting: /content/images/IS_Jild_35_Paksociety_com-page-038.jpg  \n",
            " extracting: /content/images/IS_Jild_35_Paksociety_com-page-153.jpg  \n",
            " extracting: /content/images/IS_Jild_35_Paksociety_com-page-116.jpg  \n",
            " extracting: /content/images/IS_Jild_35_Paksociety_com-page-132.jpg  \n",
            " extracting: /content/images/IS_Jild_35_Paksociety_com-page-103.jpg  \n",
            " extracting: /content/images/IS_Jild_35_Paksociety_com-page-089.jpg  \n",
            " extracting: /content/images/IS_Jild_35_Paksociety_com-page-155.jpg  \n",
            " extracting: /content/images/IS_Jild_35_Paksociety_com-page-055.jpg  \n",
            " extracting: /content/images/IS_Jild_35_Paksociety_com-page-049.jpg  \n",
            " extracting: /content/images/IS_Jild_35_Paksociety_com-page-218.jpg  \n",
            " extracting: /content/images/IS_Jild_35_Paksociety_com-page-090.jpg  \n",
            " extracting: /content/images/IS_Jild_35_Paksociety_com-page-042.jpg  \n",
            " extracting: /content/images/IS_Jild_35_Paksociety_com-page-037.jpg  \n",
            " extracting: /content/images/IS_Jild_35_Paksociety_com-page-172.jpg  \n",
            " extracting: /content/images/IS_Jild_35_Paksociety_com-page-080.jpg  \n",
            " extracting: /content/images/IS_Jild_35_Paksociety_com-page-113.jpg  \n",
            " extracting: /content/images/IS_Jild_35_Paksociety_com-page-028.jpg  \n",
            " extracting: /content/images/IS_Jild_35_Paksociety_com-page-022.jpg  \n",
            " extracting: /content/images/IS_Jild_35_Paksociety_com-page-247.jpg  \n",
            " extracting: /content/images/IS_Jild_35_Paksociety_com-page-214.jpg  \n",
            " extracting: /content/images/IS_Jild_35_Paksociety_com-page-170.jpg  \n",
            " extracting: /content/images/IS_Jild_35_Paksociety_com-page-043.jpg  \n",
            " extracting: /content/images/IS_Jild_35_Paksociety_com-page-137.jpg  \n",
            " extracting: /content/images/IS_Jild_35_Paksociety_com-page-186.jpg  \n",
            " extracting: /content/images/IS_Jild_35_Paksociety_com-page-120.jpg  \n",
            " extracting: /content/images/IS_Jild_35_Paksociety_com-page-094.jpg  \n",
            " extracting: /content/images/IS_Jild_35_Paksociety_com-page-165.jpg  \n",
            " extracting: /content/images/IS_Jild_35_Paksociety_com-page-133.jpg  \n",
            " extracting: /content/images/IS_Jild_35_Paksociety_com-page-176.jpg  \n",
            " extracting: /content/images/IS_Jild_35_Paksociety_com-page-058.jpg  \n",
            " extracting: /content/images/IS_Jild_35_Paksociety_com-page-142.jpg  \n",
            " extracting: /content/images/IS_Jild_35_Paksociety_com-page-121.jpg  \n",
            " extracting: /content/images/IS_Jild_35_Paksociety_com-page-044.jpg  \n",
            " extracting: /content/images/IS_Jild_35_Paksociety_com-page-226.jpg  \n",
            " extracting: /content/images/IS_Jild_35_Paksociety_com-page-072.jpg  \n",
            " extracting: /content/images/IS_Jild_35_Paksociety_com-page-251.jpg  \n",
            " extracting: /content/images/IS_Jild_35_Paksociety_com-page-191.jpg  \n",
            " extracting: /content/images/IS_Jild_35_Paksociety_com-page-245.jpg  \n",
            " extracting: /content/images/IS_Jild_35_Paksociety_com-page-235.jpg  \n",
            " extracting: /content/images/IS_Jild_35_Paksociety_com-page-188.jpg  \n",
            " extracting: /content/images/IS_Jild_35_Paksociety_com-page-134.jpg  \n",
            " extracting: /content/images/IS_Jild_35_Paksociety_com-page-246.jpg  \n",
            " extracting: /content/images/IS_Jild_35_Paksociety_com-page-095.jpg  \n",
            " extracting: /content/images/IS_Jild_35_Paksociety_com-page-192.jpg  \n",
            " extracting: /content/images/IS_Jild_35_Paksociety_com-page-139.jpg  \n",
            " extracting: /content/images/IS_Jild_35_Paksociety_com-page-224.jpg  \n",
            " extracting: /content/images/IS_Jild_35_Paksociety_com-page-105.jpg  \n",
            " extracting: /content/images/IS_Jild_35_Paksociety_com-page-051.jpg  \n",
            " extracting: /content/images/IS_Jild_35_Paksociety_com-page-050.jpg  \n",
            " extracting: /content/images/IS_Jild_35_Paksociety_com-page-197.jpg  \n",
            " extracting: /content/images/IS_Jild_35_Paksociety_com-page-145.jpg  \n",
            " extracting: /content/images/IS_Jild_35_Paksociety_com-page-107.jpg  \n",
            " extracting: /content/images/IS_Jild_35_Paksociety_com-page-011.jpg  \n",
            " extracting: /content/images/IS_Jild_35_Paksociety_com-page-062.jpg  \n",
            " extracting: /content/images/IS_Jild_35_Paksociety_com-page-006.jpg  \n",
            " extracting: /content/images/IS_Jild_35_Paksociety_com-page-112.jpg  \n",
            " extracting: /content/images/IS_Jild_35_Paksociety_com-page-002.jpg  \n",
            " extracting: /content/images/IS_Jild_35_Paksociety_com-page-221.jpg  \n",
            " extracting: /content/images/IS_Jild_35_Paksociety_com-page-236.jpg  \n",
            " extracting: /content/images/IS_Jild_35_Paksociety_com-page-010.jpg  \n",
            " extracting: /content/images/IS_Jild_35_Paksociety_com-page-017.jpg  \n",
            " extracting: /content/images/IS_Jild_35_Paksociety_com-page-194.jpg  \n",
            " extracting: /content/images/IS_Jild_35_Paksociety_com-page-160.jpg  \n",
            " extracting: /content/images/IS_Jild_35_Paksociety_com-page-177.jpg  \n",
            " extracting: /content/images/IS_Jild_35_Paksociety_com-page-250.jpg  \n",
            " extracting: /content/images/IS_Jild_35_Paksociety_com-page-041.jpg  \n",
            " extracting: /content/images/IS_Jild_35_Paksociety_com-page-034.jpg  \n",
            " extracting: /content/images/IS_Jild_35_Paksociety_com-page-183.jpg  \n",
            " extracting: /content/images/IS_Jild_35_Paksociety_com-page-122.jpg  \n",
            " extracting: /content/images/IS_Jild_35_Paksociety_com-page-001.jpg  \n",
            " extracting: /content/images/IS_Jild_35_Paksociety_com-page-092.jpg  \n",
            " extracting: /content/images/IS_Jild_35_Paksociety_com-page-086.jpg  \n",
            " extracting: /content/images/IS_Jild_35_Paksociety_com-page-143.jpg  \n",
            " extracting: /content/images/IS_Jild_35_Paksociety_com-page-201.jpg  \n",
            " extracting: /content/images/IS_Jild_35_Paksociety_com-page-084.jpg  \n",
            " extracting: /content/images/IS_Jild_35_Paksociety_com-page-060.jpg  \n",
            " extracting: /content/images/IS_Jild_35_Paksociety_com-page-093.jpg  \n",
            " extracting: /content/images/IS_Jild_35_Paksociety_com-page-131.jpg  \n",
            " extracting: /content/images/IS_Jild_35_Paksociety_com-page-087.jpg  \n",
            " extracting: /content/images/IS_Jild_35_Paksociety_com-page-141.jpg  \n",
            " extracting: /content/images/IS_Jild_35_Paksociety_com-page-024.jpg  \n",
            " extracting: /content/images/IS_Jild_35_Paksociety_com-page-198.jpg  \n",
            " extracting: /content/images/IS_Jild_35_Paksociety_com-page-075.jpg  \n",
            " extracting: /content/images/IS_Jild_35_Paksociety_com-page-101.jpg  \n",
            " extracting: /content/images/IS_Jild_35_Paksociety_com-page-144.jpg  \n",
            " extracting: /content/images/IS_Jild_35_Paksociety_com-page-213.jpg  \n",
            " extracting: /content/images/IS_Jild_35_Paksociety_com-page-114.jpg  \n",
            " extracting: /content/images/IS_Jild_35_Paksociety_com-page-027.jpg  \n",
            " extracting: /content/images/IS_Jild_35_Paksociety_com-page-130.jpg  \n",
            " extracting: /content/images/IS_Jild_35_Paksociety_com-page-004.jpg  \n",
            " extracting: /content/images/IS_Jild_35_Paksociety_com-page-173.jpg  \n",
            " extracting: /content/images/IS_Jild_35_Paksociety_com-page-233.jpg  \n",
            " extracting: /content/images/IS_Jild_35_Paksociety_com-page-030.jpg  \n",
            " extracting: /content/images/IS_Jild_35_Paksociety_com-page-005.jpg  \n",
            " extracting: /content/images/IS_Jild_35_Paksociety_com-page-190.jpg  \n",
            " extracting: /content/images/IS_Jild_35_Paksociety_com-page-020.jpg  \n",
            " extracting: /content/images/IS_Jild_35_Paksociety_com-page-076.jpg  \n",
            " extracting: /content/images/IS_Jild_35_Paksociety_com-page-046.jpg  \n",
            " extracting: /content/images/IS_Jild_35_Paksociety_com-page-239.jpg  \n",
            " extracting: /content/images/IS_Jild_35_Paksociety_com-page-102.jpg  \n",
            " extracting: /content/images/IS_Jild_35_Paksociety_com-page-097.jpg  \n",
            " extracting: /content/images/IS_Jild_35_Paksociety_com-page-206.jpg  \n",
            " extracting: /content/images/IS_Jild_35_Paksociety_com-page-073.jpg  \n",
            " extracting: /content/images/IS_Jild_35_Paksociety_com-page-182.jpg  \n",
            " extracting: /content/images/IS_Jild_35_Paksociety_com-page-162.jpg  \n",
            " extracting: /content/images/IS_Jild_35_Paksociety_com-page-016.jpg  \n",
            " extracting: /content/images/IS_Jild_35_Paksociety_com-page-220.jpg  \n",
            " extracting: /content/images/IS_Jild_35_Paksociety_com-page-071.jpg  \n",
            " extracting: /content/images/IS_Jild_35_Paksociety_com-page-244.jpg  \n",
            " extracting: /content/images/IS_Jild_35_Paksociety_com-page-081.jpg  \n",
            " extracting: /content/images/IS_Jild_35_Paksociety_com-page-151.jpg  \n",
            " extracting: /content/images/IS_Jild_35_Paksociety_com-page-126.jpg  \n",
            " extracting: /content/images/IS_Jild_35_Paksociety_com-page-168.jpg  \n",
            " extracting: /content/images/IS_Jild_35_Paksociety_com-page-115.jpg  \n",
            " extracting: /content/images/IS_Jild_35_Paksociety_com-page-074.jpg  \n",
            " extracting: /content/images/IS_Jild_35_Paksociety_com-page-164.jpg  \n",
            " extracting: /content/images/IS_Jild_35_Paksociety_com-page-098.jpg  \n",
            " extracting: /content/images/IS_Jild_35_Paksociety_com-page-070.jpg  \n",
            " extracting: /content/images/IS_Jild_35_Paksociety_com-page-184.jpg  \n",
            " extracting: /content/images/IS_Jild_35_Paksociety_com-page-008.jpg  \n",
            " extracting: /content/images/IS_Jild_35_Paksociety_com-page-045.jpg  \n",
            " extracting: /content/images/IS_Jild_35_Paksociety_com-page-053.jpg  \n",
            " extracting: /content/images/IS_Jild_35_Paksociety_com-page-187.jpg  \n",
            " extracting: /content/images/IS_Jild_35_Paksociety_com-page-241.jpg  \n",
            " extracting: /content/images/IS_Jild_35_Paksociety_com-page-217.jpg  \n",
            " extracting: /content/images/IS_Jild_35_Paksociety_com-page-147.jpg  \n",
            " extracting: /content/images/IS_Jild_35_Paksociety_com-page-124.jpg  \n",
            " extracting: /content/images/IS_Jild_35_Paksociety_com-page-158.jpg  \n",
            " extracting: /content/images/IS_Jild_35_Paksociety_com-page-140.jpg  \n",
            " extracting: /content/images/IS_Jild_35_Paksociety_com-page-189.jpg  \n",
            " extracting: /content/images/IS_Jild_35_Paksociety_com-page-215.jpg  \n",
            " extracting: /content/images/IS_Jild_35_Paksociety_com-page-178.jpg  \n",
            " extracting: /content/images/IS_Jild_35_Paksociety_com-page-174.jpg  \n",
            " extracting: /content/images/IS_Jild_35_Paksociety_com-page-216.jpg  \n",
            " extracting: /content/images/IS_Jild_35_Paksociety_com-page-119.jpg  \n",
            " extracting: /content/images/IS_Jild_35_Paksociety_com-page-108.jpg  \n",
            " extracting: /content/images/IS_Jild_35_Paksociety_com-page-026.jpg  \n",
            " extracting: /content/images/IS_Jild_35_Paksociety_com-page-069.jpg  \n",
            " extracting: /content/images/IS_Jild_35_Paksociety_com-page-088.jpg  \n",
            " extracting: /content/images/IS_Jild_35_Paksociety_com-page-036.jpg  \n",
            " extracting: /content/images/IS_Jild_35_Paksociety_com-page-135.jpg  \n",
            " extracting: /content/images/IS_Jild_35_Paksociety_com-page-052.jpg  \n",
            " extracting: /content/images/IS_Jild_35_Paksociety_com-page-229.jpg  \n",
            " extracting: /content/images/IS_Jild_35_Paksociety_com-page-025.jpg  \n",
            " extracting: /content/images/IS_Jild_35_Paksociety_com-page-064.jpg  \n",
            " extracting: /content/images/IS_Jild_35_Paksociety_com-page-228.jpg  \n",
            " extracting: /content/images/IS_Jild_35_Paksociety_com-page-256.jpg  \n",
            " extracting: /content/images/IS_Jild_35_Paksociety_com-page-033.jpg  \n",
            " extracting: /content/images/IS_Jild_35_Paksociety_com-page-195.jpg  \n",
            " extracting: /content/images/IS_Jild_35_Paksociety_com-page-248.jpg  \n",
            " extracting: /content/images/IS_Jild_35_Paksociety_com-page-065.jpg  \n",
            " extracting: /content/images/IS_Jild_35_Paksociety_com-page-085.jpg  \n",
            " extracting: /content/images/IS_Jild_35_Paksociety_com-page-057.jpg  \n",
            " extracting: /content/images/IS_Jild_35_Paksociety_com-page-150.jpg  \n",
            " extracting: /content/images/IS_Jild_35_Paksociety_com-page-104.jpg  \n",
            " extracting: /content/images/IS_Jild_35_Paksociety_com-page-099.jpg  \n",
            " extracting: /content/images/IS_Jild_35_Paksociety_com-page-154.jpg  \n",
            " extracting: /content/images/IS_Jild_35_Paksociety_com-page-021.jpg  \n",
            " extracting: /content/images/IS_Jild_35_Paksociety_com-page-231.jpg  \n",
            " extracting: /content/images/IS_Jild_35_Paksociety_com-page-225.jpg  \n",
            " extracting: /content/images/IS_Jild_35_Paksociety_com-page-125.jpg  \n",
            " extracting: /content/images/IS_Jild_35_Paksociety_com-page-106.jpg  \n",
            " extracting: /content/images/IS_Jild_35_Paksociety_com-page-067.jpg  \n",
            " extracting: /content/images/IS_Jild_35_Paksociety_com-page-163.jpg  \n",
            " extracting: /content/images/IS_Jild_35_Paksociety_com-page-242.jpg  \n",
            " extracting: /content/images/IS_Jild_35_Paksociety_com-page-079.jpg  \n",
            " extracting: /content/images/IS_Jild_35_Paksociety_com-page-253.jpg  \n",
            " extracting: /content/images/IS_Jild_35_Paksociety_com-page-117.jpg  \n",
            " extracting: /content/images/IS_Jild_35_Paksociety_com-page-169.jpg  \n",
            " extracting: /content/images/IS_Jild_35_Paksociety_com-page-223.jpg  \n",
            " extracting: /content/images/IS_Jild_35_Paksociety_com-page-007.jpg  \n",
            " extracting: /content/images/IS_Jild_35_Paksociety_com-page-238.jpg  \n",
            " extracting: /content/images/IS_Jild_35_Paksociety_com-page-161.jpg  \n",
            " extracting: /content/images/IS_Jild_35_Paksociety_com-page-234.jpg  \n",
            " extracting: /content/images/IS_Jild_35_Paksociety_com-page-118.jpg  \n",
            " extracting: /content/images/IS_Jild_35_Paksociety_com-page-078.jpg  \n",
            " extracting: /content/images/IS_Jild_35_Paksociety_com-page-127.jpg  \n",
            " extracting: /content/images/IS_Jild_35_Paksociety_com-page-039.jpg  \n",
            " extracting: /content/images/IS_Jild_35_Paksociety_com-page-219.jpg  \n",
            " extracting: /content/images/IS_Jild_35_Paksociety_com-page-179.jpg  \n",
            " extracting: /content/images/IS_Jild_35_Paksociety_com-page-109.jpg  \n",
            " extracting: /content/images/IS_Jild_35_Paksociety_com-page-091.jpg  \n",
            " extracting: /content/images/IS_Jild_35_Paksociety_com-page-032.jpg  \n",
            " extracting: /content/images/IS_Jild_35_Paksociety_com-page-054.jpg  \n",
            " extracting: /content/images/IS_Jild_35_Paksociety_com-page-254.jpg  \n",
            " extracting: /content/images/IS_Jild_35_Paksociety_com-page-128.jpg  \n",
            " extracting: /content/images/IS_Jild_35_Paksociety_com-page-200.jpg  \n",
            " extracting: /content/images/IS_Jild_35_Paksociety_com-page-159.jpg  \n",
            " extracting: /content/images/IS_Jild_35_Paksociety_com-page-185.jpg  \n",
            " extracting: /content/images/IS_Jild_35_Paksociety_com-page-083.jpg  \n",
            " extracting: /content/images/IS_Jild_35_Paksociety_com-page-237.jpg  \n",
            " extracting: /content/images/IS_Jild_35_Paksociety_com-page-063.jpg  \n",
            " extracting: /content/images/IS_Jild_35_Paksociety_com-page-061.jpg  \n",
            " extracting: /content/images/IS_Jild_35_Paksociety_com-page-202.jpg  \n",
            " extracting: /content/images/IS_Jild_35_Paksociety_com-page-249.jpg  \n",
            " extracting: /content/images/IS_Jild_35_Paksociety_com-page-048.jpg  \n",
            " extracting: /content/images/IS_Jild_35_Paksociety_com-page-156.jpg  \n",
            " extracting: /content/images/IS_Jild_35_Paksociety_com-page-012.jpg  \n",
            " extracting: /content/images/IS_Jild_35_Paksociety_com-page-110.jpg  \n",
            " extracting: /content/images/IS_Jild_35_Paksociety_com-page-136.jpg  \n",
            " extracting: /content/images/IS_Jild_35_Paksociety_com-page-240.jpg  \n",
            " extracting: /content/images/IS_Jild_35_Paksociety_com-page-082.jpg  \n",
            " extracting: /content/images/IS_Jild_35_Paksociety_com-page-252.jpg  \n",
            " extracting: /content/images/IS_Jild_35_Paksociety_com-page-166.jpg  \n",
            " extracting: /content/images/IS_Jild_35_Paksociety_com-page-003.jpg  \n",
            " extracting: /content/images/IS_Jild_35_Paksociety_com-page-040.jpg  \n",
            " extracting: /content/images/IS_Jild_35_Paksociety_com-page-013.jpg  \n",
            " extracting: /content/images/IS_Jild_35_Paksociety_com-page-171.jpg  \n",
            " extracting: /content/images/IS_Jild_35_Paksociety_com-page-031.jpg  \n",
            " extracting: /content/images/IS_Jild_35_Paksociety_com-page-023.jpg  \n",
            " extracting: /content/images/IS_Jild_35_Paksociety_com-page-193.jpg  \n",
            " extracting: /content/images/IS_Jild_35_Paksociety_com-page-096.jpg  \n",
            " extracting: /content/images/IS_Jild_35_Paksociety_com-page-181.jpg  \n",
            " extracting: /content/images/IS_Jild_35_Paksociety_com-page-212.jpg  \n",
            " extracting: /content/images/IS_Jild_35_Paksociety_com-page-167.jpg  \n",
            " extracting: /content/images/IS_Jild_35_Paksociety_com-page-209.jpg  \n",
            " extracting: /content/images/IS_Jild_35_Paksociety_com-page-227.jpg  \n",
            " extracting: /content/images/IS_Jild_35_Paksociety_com-page-146.jpg  \n",
            " extracting: /content/images/IS_Jild_35_Paksociety_com-page-208.jpg  \n",
            " extracting: /content/images/IS_Jild_35_Paksociety_com-page-066.jpg  \n",
            " extracting: /content/images/IS_Jild_35_Paksociety_com-page-232.jpg  \n",
            " extracting: /content/images/IS_Jild_35_Paksociety_com-page-149.jpg  \n",
            " extracting: /content/images/IS_Jild_35_Paksociety_com-page-157.jpg  \n",
            " extracting: /content/images/IS_Jild_35_Paksociety_com-page-029.jpg  \n",
            " extracting: /content/images/IS_Jild_35_Paksociety_com-page-175.jpg  \n",
            " extracting: /content/images/IS_Jild_35_Paksociety_com-page-015.jpg  \n",
            " extracting: /content/images/IS_Jild_35_Paksociety_com-page-056.jpg  \n",
            " extracting: /content/images/IS_Jild_35_Paksociety_com-page-047.jpg  \n",
            " extracting: /content/images/IS_Jild_35_Paksociety_com-page-255.jpg  \n",
            " extracting: /content/images/IS_Jild_35_Paksociety_com-page-123.jpg  \n",
            " extracting: /content/images/IS_Jild_35_Paksociety_com-page-203.jpg  \n",
            " extracting: /content/images/IS_Jild_35_Paksociety_com-page-129.jpg  \n",
            " extracting: /content/images/IS_Jild_35_Paksociety_com-page-205.jpg  \n",
            " extracting: /content/images/IS_Jild_35_Paksociety_com-page-059.jpg  \n",
            " extracting: /content/images/IS_Jild_35_Paksociety_com-page-230.jpg  \n",
            " extracting: /content/images/IS_Jild_35_Paksociety_com-page-196.jpg  \n",
            " extracting: /content/images/IS_Jild_35_Paksociety_com-page-211.jpg  \n",
            " extracting: /content/images/IS_Jild_35_Paksociety_com-page-009.jpg  \n",
            " extracting: /content/images/IS_Jild_35_Paksociety_com-page-180.jpg  \n",
            " extracting: /content/images/IS_Jild_35_Paksociety_com-page-068.jpg  \n",
            " extracting: /content/images/IS_Jild_35_Paksociety_com-page-018.jpg  \n",
            " extracting: /content/images/IS_Jild_35_Paksociety_com-page-019.jpg  \n",
            " extracting: /content/images/IS_Jild_35_Paksociety_com-page-077.jpg  \n",
            " extracting: /content/images/IS_Jild_35_Paksociety_com-page-222.jpg  \n",
            " extracting: /content/images/IS_Jild_35_Paksociety_com-page-111.jpg  \n",
            " extracting: /content/images/IS_Jild_35_Paksociety_com-page-138.jpg  \n"
          ],
          "name": "stdout"
        }
      ]
    },
    {
      "metadata": {
        "id": "lj8FpPs_En_b",
        "colab_type": "code",
        "colab": {
          "base_uri": "https://localhost:8080/",
          "height": 119
        },
        "outputId": "760acae7-e3c8-49ce-83a6-a74069b10cf7"
      },
      "cell_type": "code",
      "source": [
        "!git clone https://github.com/hamzarashid592/Urdu_YOLO.git"
      ],
      "execution_count": 41,
      "outputs": [
        {
          "output_type": "stream",
          "text": [
            "Cloning into 'Urdu_YOLO'...\n",
            "remote: Enumerating objects: 13, done.\u001b[K\n",
            "remote: Counting objects:   7% (1/13)   \u001b[K\rremote: Counting objects:  15% (2/13)   \u001b[K\rremote: Counting objects:  23% (3/13)   \u001b[K\rremote: Counting objects:  30% (4/13)   \u001b[K\rremote: Counting objects:  38% (5/13)   \u001b[K\rremote: Counting objects:  46% (6/13)   \u001b[K\rremote: Counting objects:  53% (7/13)   \u001b[K\rremote: Counting objects:  61% (8/13)   \u001b[K\rremote: Counting objects:  69% (9/13)   \u001b[K\rremote: Counting objects:  76% (10/13)   \u001b[K\rremote: Counting objects:  84% (11/13)   \u001b[K\rremote: Counting objects:  92% (12/13)   \u001b[K\rremote: Counting objects: 100% (13/13)   \u001b[K\rremote: Counting objects: 100% (13/13), done.\u001b[K\n",
            "remote: Compressing objects:  10% (1/10)   \u001b[K\rremote: Compressing objects:  20% (2/10)   \u001b[K\rremote: Compressing objects:  30% (3/10)   \u001b[K\rremote: Compressing objects:  40% (4/10)   \u001b[K\rremote: Compressing objects:  50% (5/10)   \u001b[K\rremote: Compressing objects:  60% (6/10)   \u001b[K\rremote: Compressing objects:  70% (7/10)   \u001b[K\rremote: Compressing objects:  80% (8/10)   \u001b[K\rremote: Compressing objects:  90% (9/10)   \u001b[K\rremote: Compressing objects: 100% (10/10)   \u001b[K\rremote: Compressing objects: 100% (10/10), done.\u001b[K\n",
            "remote: Total 13 (delta 1), reused 10 (delta 1), pack-reused 0\u001b[K\n",
            "Unpacking objects:   7% (1/13)   \rUnpacking objects:  15% (2/13)   \rUnpacking objects:  23% (3/13)   \rUnpacking objects:  30% (4/13)   \rUnpacking objects:  38% (5/13)   \rUnpacking objects:  46% (6/13)   \rUnpacking objects:  53% (7/13)   \rUnpacking objects:  61% (8/13)   \rUnpacking objects:  69% (9/13)   \rUnpacking objects:  76% (10/13)   \rUnpacking objects:  84% (11/13)   \rUnpacking objects:  92% (12/13)   \rUnpacking objects: 100% (13/13)   \rUnpacking objects: 100% (13/13), done.\n"
          ],
          "name": "stdout"
        }
      ]
    },
    {
      "metadata": {
        "id": "_EOsiAEuRA8i",
        "colab_type": "code",
        "colab": {
          "base_uri": "https://localhost:8080/",
          "height": 34
        },
        "outputId": "d2001cf6-008f-4a89-87c6-f4808f4fcb74"
      },
      "cell_type": "code",
      "source": [
        ""
      ],
      "execution_count": 43,
      "outputs": [
        {
          "output_type": "stream",
          "text": [
            "/content/Urdu_YOLO\n"
          ],
          "name": "stdout"
        }
      ]
    }
  ]
}